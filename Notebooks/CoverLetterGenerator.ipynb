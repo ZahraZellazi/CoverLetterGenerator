{
  "cells": [
    {
      "cell_type": "code",
      "source": [
        "from google.colab import drive\n",
        "drive.mount('/content/drive')\n"
      ],
      "metadata": {
        "colab": {
          "base_uri": "https://localhost:8080/"
        },
        "id": "CpT2zKJeqB8K",
        "outputId": "0428c701-75c8-49e4-cf07-2f56365cda2c"
      },
      "id": "CpT2zKJeqB8K",
      "execution_count": 1,
      "outputs": [
        {
          "output_type": "stream",
          "name": "stdout",
          "text": [
            "Mounted at /content/drive\n"
          ]
        }
      ]
    },
    {
      "cell_type": "code",
      "source": [
        "data_path = '/content/drive/MyDrive/CoverLetterGenerator/data'\n",
        "\n",
        "# List files in the 'data' folder\n",
        "import os\n",
        "os.listdir(data_path)\n"
      ],
      "metadata": {
        "colab": {
          "base_uri": "https://localhost:8080/"
        },
        "id": "tquKHmUEqG9N",
        "outputId": "f5ed814d-297f-4852-d4e8-b04d472e41e5"
      },
      "id": "tquKHmUEqG9N",
      "execution_count": 2,
      "outputs": [
        {
          "output_type": "execute_result",
          "data": {
            "text/plain": [
              "['.DS_Store', 'clean', 'raw']"
            ]
          },
          "metadata": {},
          "execution_count": 2
        }
      ]
    },
    {
      "cell_type": "code",
      "execution_count": 3,
      "id": "e55f8075",
      "metadata": {
        "colab": {
          "base_uri": "https://localhost:8080/"
        },
        "id": "e55f8075",
        "outputId": "da1e0fc7-6dd2-4e8b-8ed7-b3f550d35e02"
      },
      "outputs": [
        {
          "output_type": "stream",
          "name": "stdout",
          "text": [
            "CVs Loaded: 1636\n",
            "Jobs Loaded: 2277\n",
            "              Name                      Email  \\\n",
            "0  Gregory Bennett  gregory.bennett@gmail.com   \n",
            "1  Gregory Bennett  gregory.bennett@gmail.com   \n",
            "2     Jasmine Bell     jasmine.bell@gmail.com   \n",
            "3    Linda Johnson    linda.johnson@gmail.com   \n",
            "4        Ryan Cook        ryan.cook@gmail.com   \n",
            "\n",
            "                                              Skills  \n",
            "0  optimize,blockchain,transaction,throughput,40,...  \n",
            "1  blockchain,technology,web3,javascript,python,g...  \n",
            "2  blockchain,technology,web3,javascript,python,g...  \n",
            "3  distribute,system,cryptography,smart,contract,...  \n",
            "4  distribute,system,cryptography,smart,contract,...  \n",
            "   Unnamed: 0             Job Title  \\\n",
            "0           0     flutter,developer   \n",
            "1           1      django,developer   \n",
            "2           2      machine,learning   \n",
            "3           3          io,developer   \n",
            "4           4  full,stack,developer   \n",
            "\n",
            "                                     Job Description  \n",
            "0  looking,hire,expert,flutter,developer,eligible...  \n",
            "1  python,django,developer,lead,job,code,pdj,04,s...  \n",
            "2  data,scientist,contractor,bangalore,responsibi...  \n",
            "3  job,description,strong,framework,outside,io,al...  \n",
            "4  job,responsibility,full,stack,engineer,react,r...  \n"
          ]
        }
      ],
      "source": [
        "import pandas as pd\n",
        "raw_path = '/content/drive/MyDrive/CoverLetterGenerator/data/raw'\n",
        "\n",
        "# Load CVs\n",
        "df_cv = pd.read_csv(raw_path + '/CV_Extracted.csv')\n",
        "\n",
        "# Load Job Descriptions\n",
        "df_job = pd.read_csv(raw_path + '/JobDescription.csv')\n",
        "\n",
        "print(\"CVs Loaded:\", len(df_cv))\n",
        "print(\"Jobs Loaded:\", len(df_job))\n",
        "\n",
        "# Inspect first CV and Job\n",
        "print(df_cv.head())\n",
        "print(df_job.head())"
      ]
    },
    {
      "cell_type": "code",
      "execution_count": 4,
      "id": "758cdd8f",
      "metadata": {
        "colab": {
          "base_uri": "https://localhost:8080/"
        },
        "id": "758cdd8f",
        "outputId": "31176257-52a4-475a-aa47-f2f1253f35f8"
      },
      "outputs": [
        {
          "output_type": "stream",
          "name": "stdout",
          "text": [
            "              Name                      Email  \\\n",
            "0  Gregory Bennett  gregory.bennett@gmail.com   \n",
            "1  Gregory Bennett  gregory.bennett@gmail.com   \n",
            "2     Jasmine Bell     jasmine.bell@gmail.com   \n",
            "3    Linda Johnson    linda.johnson@gmail.com   \n",
            "4        Ryan Cook        ryan.cook@gmail.com   \n",
            "\n",
            "                                              Skills  \n",
            "0  optimize,blockchain,transaction,throughput,40,...  \n",
            "1  blockchain,technology,web3,javascript,python,g...  \n",
            "2  blockchain,technology,web3,javascript,python,g...  \n",
            "3  distribute,system,cryptography,smart,contract,...  \n",
            "4  distribute,system,cryptography,smart,contract,...  \n",
            "   Unnamed: 0             Job Title  \\\n",
            "0           0     flutter,developer   \n",
            "1           1      django,developer   \n",
            "2           2      machine,learning   \n",
            "3           3          io,developer   \n",
            "4           4  full,stack,developer   \n",
            "\n",
            "                                     Job Description  \n",
            "0  looking,hire,expert,flutter,developer,eligible...  \n",
            "1  python,django,developer,lead,job,code,pdj,04,s...  \n",
            "2  data,scientist,contractor,bangalore,responsibi...  \n",
            "3  job,description,strong,framework,outside,io,al...  \n",
            "4  job,responsibility,full,stack,engineer,react,r...  \n",
            "<class 'pandas.core.frame.DataFrame'>\n",
            "RangeIndex: 1636 entries, 0 to 1635\n",
            "Data columns (total 3 columns):\n",
            " #   Column  Non-Null Count  Dtype \n",
            "---  ------  --------------  ----- \n",
            " 0   Name    1636 non-null   object\n",
            " 1   Email   1636 non-null   object\n",
            " 2   Skills  1624 non-null   object\n",
            "dtypes: object(3)\n",
            "memory usage: 38.5+ KB\n",
            "None\n",
            "<class 'pandas.core.frame.DataFrame'>\n",
            "RangeIndex: 2277 entries, 0 to 2276\n",
            "Data columns (total 3 columns):\n",
            " #   Column           Non-Null Count  Dtype \n",
            "---  ------           --------------  ----- \n",
            " 0   Unnamed: 0       2277 non-null   int64 \n",
            " 1   Job Title        2277 non-null   object\n",
            " 2   Job Description  2277 non-null   object\n",
            "dtypes: int64(1), object(2)\n",
            "memory usage: 53.5+ KB\n",
            "None\n",
            "Name       0\n",
            "Email      0\n",
            "Skills    12\n",
            "dtype: int64\n",
            "Unnamed: 0         0\n",
            "Job Title          0\n",
            "Job Description    0\n",
            "dtype: int64\n",
            "                  Name                     Email        Skills\n",
            "count             1636                      1636          1624\n",
            "unique             330                       330          1329\n",
            "top     Jessica Claire  jessica.claire@gmail.com  work,history\n",
            "freq               579                       579            53\n",
            "         Unnamed: 0             Job Title  \\\n",
            "count   2277.000000                  2277   \n",
            "unique          NaN                    15   \n",
            "top             NaN  javascript,developer   \n",
            "freq            NaN                   166   \n",
            "mean    1187.974089                   NaN   \n",
            "std      694.438444                   NaN   \n",
            "min        0.000000                   NaN   \n",
            "25%      585.000000                   NaN   \n",
            "50%     1183.000000                   NaN   \n",
            "75%     1782.000000                   NaN   \n",
            "max     2403.000000                   NaN   \n",
            "\n",
            "                                          Job Description  \n",
            "count                                                2277  \n",
            "unique                                               2246  \n",
            "top     design,build,sophisticated,highly,scalable,app...  \n",
            "freq                                                    2  \n",
            "mean                                                  NaN  \n",
            "std                                                   NaN  \n",
            "min                                                   NaN  \n",
            "25%                                                   NaN  \n",
            "50%                                                   NaN  \n",
            "75%                                                   NaN  \n",
            "max                                                   NaN  \n"
          ]
        }
      ],
      "source": [
        "# Check first rows\n",
        "print(df_cv.head())\n",
        "print(df_job.head())\n",
        "\n",
        "# Basic info\n",
        "print(df_cv.info())\n",
        "print(df_job.info())\n",
        "\n",
        "# Check for missing values\n",
        "print(df_cv.isnull().sum())\n",
        "print(df_job.isnull().sum())\n",
        "\n",
        "# Summary statistics\n",
        "print(df_cv.describe(include='all'))\n",
        "print(df_job.describe(include='all'))\n"
      ]
    },
    {
      "cell_type": "code",
      "execution_count": 5,
      "id": "ef0dafb6",
      "metadata": {
        "colab": {
          "base_uri": "https://localhost:8080/"
        },
        "id": "ef0dafb6",
        "outputId": "b48c97c5-6320-4f49-e0ac-5fdf89dfda63"
      },
      "outputs": [
        {
          "output_type": "stream",
          "name": "stdout",
          "text": [
            "Unique candidates: 330\n",
            "              Name  num_skills\n",
            "0  Gregory Bennett          15\n",
            "1  Gregory Bennett          16\n",
            "2     Jasmine Bell          16\n",
            "3    Linda Johnson          18\n",
            "4        Ryan Cook          29\n",
            "[('management', 476), ('work', 452), ('team', 415), ('data', 403), ('test', 378), ('development', 362), ('system', 333), ('tool', 320), ('python', 299), ('program', 280), ('history', 276), ('sql', 274), ('service', 268), ('process', 264), ('use', 263), ('problem', 258), ('design', 254), ('software', 253), ('plan', 240), ('project', 229)]\n"
          ]
        }
      ],
      "source": [
        "# How many unique candidates?\n",
        "print(\"Unique candidates:\", df_cv['Name'].nunique())\n",
        "\n",
        "# Count how many skills each CV has\n",
        "df_cv['num_skills'] = df_cv['Skills'].apply(lambda x: len(str(x).split(',')))\n",
        "print(df_cv[['Name', 'num_skills']].head())\n",
        "\n",
        "# Most common skills\n",
        "from collections import Counter\n",
        "\n",
        "all_skills = ','.join(df_cv['Skills'].dropna()).split(',')\n",
        "all_skills = [s.strip().lower() for s in all_skills]\n",
        "skill_counts = Counter(all_skills)\n",
        "print(skill_counts.most_common(20))\n"
      ]
    },
    {
      "cell_type": "code",
      "execution_count": 6,
      "id": "b5c6f2b7",
      "metadata": {
        "colab": {
          "base_uri": "https://localhost:8080/"
        },
        "id": "b5c6f2b7",
        "outputId": "3887731a-2707-44ca-bcd6-f3c611e05d6a"
      },
      "outputs": [
        {
          "output_type": "stream",
          "name": "stdout",
          "text": [
            "                  Job Title  desc_length\n",
            "0         flutter,developer           56\n",
            "1          django,developer           56\n",
            "2          machine,learning          169\n",
            "3              io,developer          135\n",
            "4      full,stack,developer          405\n",
            "...                     ...          ...\n",
            "2272      backend,developer          258\n",
            "2273   full,stack,developer          337\n",
            "2274  network,administrator           50\n",
            "2275       machine,learning          170\n",
            "2276   full,stack,developer          119\n",
            "\n",
            "[2277 rows x 2 columns]\n",
            "[('experience', 9810), ('work', 4903), ('year', 4653), ('development', 4191), ('team', 3750), ('application', 3542), ('skill', 3324), ('knowledge', 3226), ('design', 3086), ('software', 2981), ('technology', 2769), ('data', 2752), ('job', 2714), ('system', 2591), ('preferred', 2473), ('service', 2286), ('required', 2149), ('understanding', 2092), ('developer', 2055), ('working', 2008), ('time', 1979), ('web', 1960), ('database', 1866), ('strong', 1864), ('solution', 1820), ('code', 1797), ('product', 1788), ('business', 1714), ('full', 1686), ('new', 1672)]\n"
          ]
        }
      ],
      "source": [
        "# Length of job descriptions\n",
        "df_job['desc_length'] = df_job['Job Description'].apply(lambda x: len(str(x).split(',')))\n",
        "print(df_job[['Job Title', 'desc_length']])\n",
        "\n",
        "# Most common words in job descriptions\n",
        "all_job_words = ','.join(df_job['Job Description'].dropna()).split(',')\n",
        "all_job_words = [w.strip().lower() for w in all_job_words]\n",
        "job_word_counts = Counter(all_job_words)\n",
        "print(job_word_counts.most_common(30))\n"
      ]
    },
    {
      "cell_type": "code",
      "execution_count": 7,
      "id": "1e815414",
      "metadata": {
        "colab": {
          "base_uri": "https://localhost:8080/",
          "height": 927
        },
        "id": "1e815414",
        "outputId": "b595fed5-3b0c-44d0-a78d-94ec4d49173d"
      },
      "outputs": [
        {
          "output_type": "display_data",
          "data": {
            "text/plain": [
              "<Figure size 640x480 with 1 Axes>"
            ],
            "image/png": "[encoded data removed]"
          },
          "metadata": {}
        },
        {
          "output_type": "display_data",
          "data": {
            "text/plain": [
              "<Figure size 640x480 with 1 Axes>"
            ],
            "image/png": "[encoded data removed]"
          },
          "metadata": {}
        }
      ],
      "source": [
        "import matplotlib.pyplot as plt\n",
        "import seaborn as sns\n",
        "\n",
        "# Histogram of number of skills per CV\n",
        "sns.histplot(df_cv['num_skills'], bins=20)\n",
        "plt.title(\"Number of skills per CV\")\n",
        "plt.show()\n",
        "\n",
        "# Histogram of job description lengths\n",
        "sns.histplot(df_job['desc_length'], bins=20)\n",
        "plt.title(\"Job Description length (in words)\")\n",
        "plt.show()\n"
      ]
    },
    {
      "cell_type": "markdown",
      "id": "8dc152a0",
      "metadata": {
        "id": "8dc152a0"
      },
      "source": [
        "**Cleaning Steps for CVs**"
      ]
    },
    {
      "cell_type": "markdown",
      "id": "981a32b1",
      "metadata": {
        "id": "981a32b1"
      },
      "source": [
        "Remove missing skills:"
      ]
    },
    {
      "cell_type": "code",
      "execution_count": 12,
      "id": "e3df79b5",
      "metadata": {
        "id": "e3df79b5"
      },
      "outputs": [],
      "source": [
        "df_cv = df_cv.dropna(subset=['Skills'])\n"
      ]
    },
    {
      "cell_type": "markdown",
      "id": "be980e32",
      "metadata": {
        "id": "be980e32"
      },
      "source": [
        "Lowercase everything:"
      ]
    },
    {
      "cell_type": "code",
      "execution_count": 13,
      "id": "5eb6da33",
      "metadata": {
        "id": "5eb6da33"
      },
      "outputs": [],
      "source": [
        "df_cv['Skills'] = df_cv['Skills'].str.lower()\n"
      ]
    },
    {
      "cell_type": "markdown",
      "id": "41fdd71f",
      "metadata": {
        "id": "41fdd71f"
      },
      "source": [
        "Remove numbers and special characters:"
      ]
    },
    {
      "cell_type": "code",
      "execution_count": 14,
      "id": "76538e86",
      "metadata": {
        "id": "76538e86"
      },
      "outputs": [],
      "source": [
        "import re\n",
        "\n",
        "def clean_skills(text):\n",
        "    text = re.sub(r'\\d+', '', text)  # remove numbers\n",
        "    text = re.sub(r'[^a-z, ]', '', text)  # remove special chars\n",
        "    text = ','.join([s.strip() for s in text.split(',') if s.strip() != ''])\n",
        "    return text\n",
        "\n",
        "df_cv['Skills'] = df_cv['Skills'].apply(clean_skills)\n"
      ]
    },
    {
      "cell_type": "markdown",
      "id": "d6926d43",
      "metadata": {
        "id": "d6926d43"
      },
      "source": [
        "**Cleaning Steps for Job Descriptions**"
      ]
    },
    {
      "cell_type": "code",
      "execution_count": 15,
      "id": "56e69278",
      "metadata": {
        "id": "56e69278"
      },
      "outputs": [],
      "source": [
        "df_job['Job Description'] = df_job['Job Description'].str.lower()\n"
      ]
    },
    {
      "cell_type": "code",
      "execution_count": 16,
      "id": "72de0505",
      "metadata": {
        "id": "72de0505"
      },
      "outputs": [],
      "source": [
        "def clean_job_desc(text):\n",
        "    text = re.sub(r'\\d+', '', text)\n",
        "    text = re.sub(r'[^a-z, ]', '', text)\n",
        "    text = ' '.join([w.strip() for w in text.split(',') if w.strip() != ''])\n",
        "    return text\n",
        "\n",
        "df_job['Job Description'] = df_job['Job Description'].apply(clean_job_desc)\n"
      ]
    },
    {
      "cell_type": "code",
      "execution_count": 17,
      "id": "3e225a3b",
      "metadata": {
        "colab": {
          "base_uri": "https://localhost:8080/",
          "height": 1000
        },
        "id": "3e225a3b",
        "outputId": "f247074e-9f09-410a-c4c3-b30c99c4bb30"
      },
      "outputs": [
        {
          "output_type": "display_data",
          "data": {
            "text/html": [
              "<html>\n",
              "<head><meta charset=\"utf-8\" /></head>\n",
              "<body>\n",
              "    <div>            <script src=\"https://cdnjs.cloudflare.com/ajax/libs/mathjax/2.7.5/MathJax.js?config=TeX-AMS-MML_SVG\"></script><script type=\"text/javascript\">if (window.MathJax && window.MathJax.Hub && window.MathJax.Hub.Config) {window.MathJax.Hub.Config({SVG: {font: \"STIX-Web\"}});}</script>                <script type=\"text/javascript\">window.PlotlyConfig = {MathJaxConfig: 'local'};</script>\n",
              "        <script charset=\"utf-8\" src=\"https://cdn.plot.ly/plotly-2.35.2.min.js\"></script>                <div id=\"42afa7bf-24c7-4a69-9fdc-cdfdc58b8268\" class=\"plotly-graph-div\" style=\"height:525px; width:100%;\"></div>            <script type=\"text/javascript\">                                    window.PLOTLYENV=window.PLOTLYENV || {};                                    if (document.getElementById(\"42afa7bf-24c7-4a69-9fdc-cdfdc58b8268\")) {                    Plotly.newPlot(                        \"42afa7bf-24c7-4a69-9fdc-cdfdc58b8268\",                        [{\"alignmentgroup\":\"True\",\"bingroup\":\"x\",\"hovertemplate\":\"num_skills=%{x}\\u003cbr\\u003ecount=%{y}\\u003cextra\\u003e\\u003c\\u002fextra\\u003e\",\"legendgroup\":\"\",\"marker\":{\"color\":\"#636efa\",\"pattern\":{\"shape\":\"\"}},\"name\":\"\",\"nbinsx\":20,\"offsetgroup\":\"\",\"orientation\":\"v\",\"showlegend\":false,\"x\":[14,16,16,18,27,20,16,90,12,102,110,17,17,14,5,38,15,8,25,16,16,10,24,99,95,16,16,10,9,7,4,16,15,14,25,16,16,16,16,8,9,13,63,44,12,143,15,27,5,20,10,8,6,10,40,15,7,41,13,5,1,16,4,32,3,38,10,7,25,17,84,1,106,4,135,8,46,72,118,19,8,32,19,5,25,63,11,16,13,35,2,18,27,2,11,14,21,25,16,24,24,75,10,16,22,26,11,8,31,14,21,19,19,19,15,28,72,70,22,17,70,15,59,25,15,8,30,11,3,28,30,24,11,16,22,18,6,21,17,21,3,87,2,59,9,85,24,14,18,10,10,13,15,2,11,4,7,4,8,16,16,258,273,151,169,21,13,45,57,25,48,20,15,4,2,9,2,28,34,81,8,2,36,38,26,29,136,143,13,13,3,5,7,19,41,41,79,24,105,110,86,24,3,3,27,58,56,35,35,16,18,140,270,57,141,167,16,16,27,46,17,23,9,2,31,62,62,28,47,28,28,15,1,56,2,12,30,30,9,25,25,43,213,215,22,22,32,36,33,33,57,70,13,11,9,15,18,50,50,78,5,5,10,23,25,33,86,24,88,89,21,21,9,12,3,47,15,143,149,49,61,9,21,9,24,404,425,19,219,221,14,27,135,143,22,24,35,11,8,49,9,39,6,26,4,2,36,38,11,40,56,9,21,65,20,20,28,30,51,51,106,25,9,41,7,14,28,30,86,24,135,143,11,3,37,47,12,2,27,31,40,306,81,82,12,131,131,7,12,23,146,23,23,13,21,12,118,148,32,278,23,43,32,278,28,65,32,12,128,128,234,2,233,249,20,14,17,237,19,20,50,89,84,40,306,68,77,58,56,3,3,27,32,35,35,27,3,5,118,71,78,14,18,31,93,93,81,82,141,167,145,37,9,85,26,8,21,50,65,25,27,6,55,54,45,44,2,147,107,88,87,119,24,24,85,24,126,41,42,150,2,1,26,9,41,103,23,5,45,27,31,73,82,57,95,100,64,2,36,31,35,9,50,65,30,6,55,54,45,44,7,131,131,60,57,32,33,93,93,3,16,45,26,22,22,59,20,75,87,30,30,52,25,27,68,15,56,165,48,6,10,59,145,19,83,48,38,35,14,11,28,6,36,65,6,151,16,28,5,33,34,9,2,5,64,64,6,101,14,28,187,11,174,178,18,48,37,25,14,6,29,90,95,8,31,151,15,105,99,16,17,19,21,5,91,19,8,30,30,15,16,30,9,5,21,17,17,25,3,39,36,18,5,5,5,161,26,18,57,67,56,156,50,172,58,95,88,11,2,22,95,13,262,13,289,45,31,109,337,25,51,59,47,6,28,13,2,63,111,5,76,163,2,65,33,3,18,110,64,289,26,97,53,52,161,57,17,159,202,66,161,2,31,289,24,58,150,178,9,214,49,306,101,17,51,50,2,12,60,59,166,17,40,14,6,44,158,89,17,333,13,2,30,262,65,13,2,75,26,166,173,67,13,120,15,2,30,64,17,35,67,16,16,32,250,69,40,40,2,9,49,4,43,57,66,32,22,66,6,31,30,12,60,60,2,22,9,15,100,20,4,68,38,16,40,97,25,40,155,43,40,19,56,1,104,22,104,171,9,9,171,14,13,9,10,56,54,4,24,15,49,4,15,39,164,4,4,19,20,157,27,43,15,40,15,7,58,40,9,18,15,58,133,156,57,10,6,31,9,29,4,15,10,15,6,31,70,47,10,29,4,11,26,89,80,31,23,1,1,38,75,24,32,8,3,2,52,16,41,1,20,40,7,19,41,4,27,19,55,1,16,16,5,21,22,1,17,16,17,23,47,3,13,62,74,7,34,44,29,103,26,14,41,22,26,3,64,143,22,18,175,21,5,1,10,2,27,1,9,1,9,3,2,22,40,176,51,176,22,51,59,29,16,44,16,103,128,32,29,30,7,60,116,16,27,175,2,13,65,5,30,11,16,19,3,1,11,7,56,47,110,137,2,25,304,45,26,9,9,9,26,77,265,19,2,190,69,2,126,69,72,89,12,2,95,6,39,46,81,8,11,39,39,12,51,82,34,31,27,30,2,95,40,202,22,84,1,141,198,5,142,150,115,197,5,26,2,60,44,65,68,27,57,57,26,71,33,63,2,5,2,33,102,43,120,34,12,5,10,18,23,142,1,77,2,296,32,2,2,41,118,27,51,137,2,2,2,4,127,82,44,2,2,119,3,198,26,15,2,2,12,46,4,13,27,53,3,13,2,7,18,12,15,40,16,34,26,9,84,7,26,15,46,5,95,4,18,153,30,20,7,15,53,12,26,153,7,10,7,12,52,182,27,42,40,39,7,9,13,11,5,15,13,30,7,18,9,1,15,23,5,0,7,30,30,13,15,25,59,1,16,6,34,10,42,6,38,8,15,33,38,10,10,20,20,6,19,10,17,13,3,4,17,94,122,25,9,19,16,16,13,14,3,31,16,16,17,21,2,2,15,16,16,66,28,72,86,3,87,19,8,11,21,7,40,4,0,15,9,14,30,16,62,62,7,13,28,25,31,36,70,83,199,10,33,33,28,2,77,63,16,15,18,18,18,17,18,38,125,2,15,22,40,39,26,9,2,21,25,24,24,9,15,15,20,2,25,61,124,122,8,50,170,303,300,66,66,33,1,10,1,68,68,159,1,1,2,32,36,14,40,231,246,157,165,39,8,2,13,24,36,37,116,147,168,2,38,40,24,25,144,2,34,15,61,52,1,33,32,24,25,16,5,2,56,75,124,2,7,19,47,49,30,26,185,187,14,68,2,20,26,164,26,30,30,199,2,6,9,18,3,7,13,50,28,31,127,2,20,65,33,41,139,8,47,46,17,33,23,43,50,49,19,28,64,25,203,9,16,11,11,53,12,39,39,59,62,33,35,194,208,1,35,55,79,69,5,3,8,101,3,35,113,113,122,4,4,27,3,31,36,39,39,39,38,23,22,27,38,20,65,39,20,25,10,2,20,31,2,1,164,36,40,45,47,90,9,67,16,14,3,28,3,3,29,5,23,43,71,50,49,28,59,14,8,59,247,280,1,28,8,7,14,47,46,15,17,28,29,48,81,10,17,33,104,104,64,8,25,203,53,53,25,37,51,24,14,14,175,204,25,77,34,33,61,17,17,262,19,18,34,46,38,41,15,15,178,36,26,32,23,3,13,86,16,7,18,18,69,65,2,2,68,13,2,98,47,34,59,30,54,90,90,36,27,22,130,127,123,103,397,414,3,23,38,34,62,62,6,232,47,49,3,23,31,6,15,62,14,54,2,40,13,163,10,1,2,48,13,44,21,4,15,52,14,12,47,68,20,29,31,30,26,53,16,49,14,142,8,111,17,114,10,4,18,19,16,156,46,169,66,8,27,28,3,46,44,20,15,53,24,16,13,156,42,14,16,51,137,68,8,29,13,28,202,2,26,15,68,175,42,26,12,31,30,31,1,24,3,5,17,17,52,20,59,26,10,8,5,7,5,23,20,67,5,6,21,21,10,18,14,35,191,5,4,13,27,9,33,21,37,11,59,31,13,36,16,20,24,2,15,11,27,18,31,27,7,33,24,35,21,21,15,34,20,19,27,33,20,23,27,39,5,65,16,15,21,8,82,16,22,21,21,11],\"xaxis\":\"x\",\"yaxis\":\"y\",\"type\":\"histogram\"}],                        {\"template\":{\"data\":{\"histogram2dcontour\":[{\"type\":\"histogram2dcontour\",\"colorbar\":{\"outlinewidth\":0,\"ticks\":\"\"},\"colorscale\":[[0.0,\"#0d0887\"],[0.1111111111111111,\"#46039f\"],[0.2222222222222222,\"#7201a8\"],[0.3333333333333333,\"#9c179e\"],[0.4444444444444444,\"#bd3786\"],[0.5555555555555556,\"#d8576b\"],[0.6666666666666666,\"#ed7953\"],[0.7777777777777778,\"#fb9f3a\"],[0.8888888888888888,\"#fdca26\"],[1.0,\"#f0f921\"]]}],\"choropleth\":[{\"type\":\"choropleth\",\"colorbar\":{\"outlinewidth\":0,\"ticks\":\"\"}}],\"histogram2d\":[{\"type\":\"histogram2d\",\"colorbar\":{\"outlinewidth\":0,\"ticks\":\"\"},\"colorscale\":[[0.0,\"#0d0887\"],[0.1111111111111111,\"#46039f\"],[0.2222222222222222,\"#7201a8\"],[0.3333333333333333,\"#9c179e\"],[0.4444444444444444,\"#bd3786\"],[0.5555555555555556,\"#d8576b\"],[0.6666666666666666,\"#ed7953\"],[0.7777777777777778,\"#fb9f3a\"],[0.8888888888888888,\"#fdca26\"],[1.0,\"#f0f921\"]]}],\"heatmap\":[{\"type\":\"heatmap\",\"colorbar\":{\"outlinewidth\":0,\"ticks\":\"\"},\"colorscale\":[[0.0,\"#0d0887\"],[0.1111111111111111,\"#46039f\"],[0.2222222222222222,\"#7201a8\"],[0.3333333333333333,\"#9c179e\"],[0.4444444444444444,\"#bd3786\"],[0.5555555555555556,\"#d8576b\"],[0.6666666666666666,\"#ed7953\"],[0.7777777777777778,\"#fb9f3a\"],[0.8888888888888888,\"#fdca26\"],[1.0,\"#f0f921\"]]}],\"heatmapgl\":[{\"type\":\"heatmapgl\",\"colorbar\":{\"outlinewidth\":0,\"ticks\":\"\"},\"colorscale\":[[0.0,\"#0d0887\"],[0.1111111111111111,\"#46039f\"],[0.2222222222222222,\"#7201a8\"],[0.3333333333333333,\"#9c179e\"],[0.4444444444444444,\"#bd3786\"],[0.5555555555555556,\"#d8576b\"],[0.6666666666666666,\"#ed7953\"],[0.7777777777777778,\"#fb9f3a\"],[0.8888888888888888,\"#fdca26\"],[1.0,\"#f0f921\"]]}],\"contourcarpet\":[{\"type\":\"contourcarpet\",\"colorbar\":{\"outlinewidth\":0,\"ticks\":\"\"}}],\"contour\":[{\"type\":\"contour\",\"colorbar\":{\"outlinewidth\":0,\"ticks\":\"\"},\"colorscale\":[[0.0,\"#0d0887\"],[0.1111111111111111,\"#46039f\"],[0.2222222222222222,\"#7201a8\"],[0.3333333333333333,\"#9c179e\"],[0.4444444444444444,\"#bd3786\"],[0.5555555555555556,\"#d8576b\"],[0.6666666666666666,\"#ed7953\"],[0.7777777777777778,\"#fb9f3a\"],[0.8888888888888888,\"#fdca26\"],[1.0,\"#f0f921\"]]}],\"surface\":[{\"type\":\"surface\",\"colorbar\":{\"outlinewidth\":0,\"ticks\":\"\"},\"colorscale\":[[0.0,\"#0d0887\"],[0.1111111111111111,\"#46039f\"],[0.2222222222222222,\"#7201a8\"],[0.3333333333333333,\"#9c179e\"],[0.4444444444444444,\"#bd3786\"],[0.5555555555555556,\"#d8576b\"],[0.6666666666666666,\"#ed7953\"],[0.7777777777777778,\"#fb9f3a\"],[0.8888888888888888,\"#fdca26\"],[1.0,\"#f0f921\"]]}],\"mesh3d\":[{\"type\":\"mesh3d\",\"colorbar\":{\"outlinewidth\":0,\"ticks\":\"\"}}],\"scatter\":[{\"fillpattern\":{\"fillmode\":\"overlay\",\"size\":10,\"solidity\":0.2},\"type\":\"scatter\"}],\"parcoords\":[{\"type\":\"parcoords\",\"line\":{\"colorbar\":{\"outlinewidth\":0,\"ticks\":\"\"}}}],\"scatterpolargl\":[{\"type\":\"scatterpolargl\",\"marker\":{\"colorbar\":{\"outlinewidth\":0,\"ticks\":\"\"}}}],\"bar\":[{\"error_x\":{\"color\":\"#2a3f5f\"},\"error_y\":{\"color\":\"#2a3f5f\"},\"marker\":{\"line\":{\"color\":\"#E5ECF6\",\"width\":0.5},\"pattern\":{\"fillmode\":\"overlay\",\"size\":10,\"solidity\":0.2}},\"type\":\"bar\"}],\"scattergeo\":[{\"type\":\"scattergeo\",\"marker\":{\"colorbar\":{\"outlinewidth\":0,\"ticks\":\"\"}}}],\"scatterpolar\":[{\"type\":\"scatterpolar\",\"marker\":{\"colorbar\":{\"outlinewidth\":0,\"ticks\":\"\"}}}],\"histogram\":[{\"marker\":{\"pattern\":{\"fillmode\":\"overlay\",\"size\":10,\"solidity\":0.2}},\"type\":\"histogram\"}],\"scattergl\":[{\"type\":\"scattergl\",\"marker\":{\"colorbar\":{\"outlinewidth\":0,\"ticks\":\"\"}}}],\"scatter3d\":[{\"type\":\"scatter3d\",\"line\":{\"colorbar\":{\"outlinewidth\":0,\"ticks\":\"\"}},\"marker\":{\"colorbar\":{\"outlinewidth\":0,\"ticks\":\"\"}}}],\"scattermapbox\":[{\"type\":\"scattermapbox\",\"marker\":{\"colorbar\":{\"outlinewidth\":0,\"ticks\":\"\"}}}],\"scatterternary\":[{\"type\":\"scatterternary\",\"marker\":{\"colorbar\":{\"outlinewidth\":0,\"ticks\":\"\"}}}],\"scattercarpet\":[{\"type\":\"scattercarpet\",\"marker\":{\"colorbar\":{\"outlinewidth\":0,\"ticks\":\"\"}}}],\"carpet\":[{\"aaxis\":{\"endlinecolor\":\"#2a3f5f\",\"gridcolor\":\"white\",\"linecolor\":\"white\",\"minorgridcolor\":\"white\",\"startlinecolor\":\"#2a3f5f\"},\"baxis\":{\"endlinecolor\":\"#2a3f5f\",\"gridcolor\":\"white\",\"linecolor\":\"white\",\"minorgridcolor\":\"white\",\"startlinecolor\":\"#2a3f5f\"},\"type\":\"carpet\"}],\"table\":[{\"cells\":{\"fill\":{\"color\":\"#EBF0F8\"},\"line\":{\"color\":\"white\"}},\"header\":{\"fill\":{\"color\":\"#C8D4E3\"},\"line\":{\"color\":\"white\"}},\"type\":\"table\"}],\"barpolar\":[{\"marker\":{\"line\":{\"color\":\"#E5ECF6\",\"width\":0.5},\"pattern\":{\"fillmode\":\"overlay\",\"size\":10,\"solidity\":0.2}},\"type\":\"barpolar\"}],\"pie\":[{\"automargin\":true,\"type\":\"pie\"}]},\"layout\":{\"autotypenumbers\":\"strict\",\"colorway\":[\"#636efa\",\"#EF553B\",\"#00cc96\",\"#ab63fa\",\"#FFA15A\",\"#19d3f3\",\"#FF6692\",\"#B6E880\",\"#FF97FF\",\"#FECB52\"],\"font\":{\"color\":\"#2a3f5f\"},\"hovermode\":\"closest\",\"hoverlabel\":{\"align\":\"left\"},\"paper_bgcolor\":\"white\",\"plot_bgcolor\":\"#E5ECF6\",\"polar\":{\"bgcolor\":\"#E5ECF6\",\"angularaxis\":{\"gridcolor\":\"white\",\"linecolor\":\"white\",\"ticks\":\"\"},\"radialaxis\":{\"gridcolor\":\"white\",\"linecolor\":\"white\",\"ticks\":\"\"}},\"ternary\":{\"bgcolor\":\"#E5ECF6\",\"aaxis\":{\"gridcolor\":\"white\",\"linecolor\":\"white\",\"ticks\":\"\"},\"baxis\":{\"gridcolor\":\"white\",\"linecolor\":\"white\",\"ticks\":\"\"},\"caxis\":{\"gridcolor\":\"white\",\"linecolor\":\"white\",\"ticks\":\"\"}},\"coloraxis\":{\"colorbar\":{\"outlinewidth\":0,\"ticks\":\"\"}},\"colorscale\":{\"sequential\":[[0.0,\"#0d0887\"],[0.1111111111111111,\"#46039f\"],[0.2222222222222222,\"#7201a8\"],[0.3333333333333333,\"#9c179e\"],[0.4444444444444444,\"#bd3786\"],[0.5555555555555556,\"#d8576b\"],[0.6666666666666666,\"#ed7953\"],[0.7777777777777778,\"#fb9f3a\"],[0.8888888888888888,\"#fdca26\"],[1.0,\"#f0f921\"]],\"sequentialminus\":[[0.0,\"#0d0887\"],[0.1111111111111111,\"#46039f\"],[0.2222222222222222,\"#7201a8\"],[0.3333333333333333,\"#9c179e\"],[0.4444444444444444,\"#bd3786\"],[0.5555555555555556,\"#d8576b\"],[0.6666666666666666,\"#ed7953\"],[0.7777777777777778,\"#fb9f3a\"],[0.8888888888888888,\"#fdca26\"],[1.0,\"#f0f921\"]],\"diverging\":[[0,\"#8e0152\"],[0.1,\"#c51b7d\"],[0.2,\"#de77ae\"],[0.3,\"#f1b6da\"],[0.4,\"#fde0ef\"],[0.5,\"#f7f7f7\"],[0.6,\"#e6f5d0\"],[0.7,\"#b8e186\"],[0.8,\"#7fbc41\"],[0.9,\"#4d9221\"],[1,\"#276419\"]]},\"xaxis\":{\"gridcolor\":\"white\",\"linecolor\":\"white\",\"ticks\":\"\",\"title\":{\"standoff\":15},\"zerolinecolor\":\"white\",\"automargin\":true,\"zerolinewidth\":2},\"yaxis\":{\"gridcolor\":\"white\",\"linecolor\":\"white\",\"ticks\":\"\",\"title\":{\"standoff\":15},\"zerolinecolor\":\"white\",\"automargin\":true,\"zerolinewidth\":2},\"scene\":{\"xaxis\":{\"backgroundcolor\":\"#E5ECF6\",\"gridcolor\":\"white\",\"linecolor\":\"white\",\"showbackground\":true,\"ticks\":\"\",\"zerolinecolor\":\"white\",\"gridwidth\":2},\"yaxis\":{\"backgroundcolor\":\"#E5ECF6\",\"gridcolor\":\"white\",\"linecolor\":\"white\",\"showbackground\":true,\"ticks\":\"\",\"zerolinecolor\":\"white\",\"gridwidth\":2},\"zaxis\":{\"backgroundcolor\":\"#E5ECF6\",\"gridcolor\":\"white\",\"linecolor\":\"white\",\"showbackground\":true,\"ticks\":\"\",\"zerolinecolor\":\"white\",\"gridwidth\":2}},\"shapedefaults\":{\"line\":{\"color\":\"#2a3f5f\"}},\"annotationdefaults\":{\"arrowcolor\":\"#2a3f5f\",\"arrowhead\":0,\"arrowwidth\":1},\"geo\":{\"bgcolor\":\"white\",\"landcolor\":\"#E5ECF6\",\"subunitcolor\":\"white\",\"showland\":true,\"showlakes\":true,\"lakecolor\":\"white\"},\"title\":{\"x\":0.05},\"mapbox\":{\"style\":\"light\"}}},\"xaxis\":{\"anchor\":\"y\",\"domain\":[0.0,1.0],\"title\":{\"text\":\"num_skills\"}},\"yaxis\":{\"anchor\":\"x\",\"domain\":[0.0,1.0],\"title\":{\"text\":\"count\"}},\"legend\":{\"tracegroupgap\":0},\"title\":{\"text\":\"Number of Skills per Candidate\"},\"barmode\":\"relative\"},                        {\"responsive\": true}                    ).then(function(){\n",
              "                            \n",
              "var gd = document.getElementById('42afa7bf-24c7-4a69-9fdc-cdfdc58b8268');\n",
              "var x = new MutationObserver(function (mutations, observer) {{\n",
              "        var display = window.getComputedStyle(gd).display;\n",
              "        if (!display || display === 'none') {{\n",
              "            console.log([gd, 'removed!']);\n",
              "            Plotly.purge(gd);\n",
              "            observer.disconnect();\n",
              "        }}\n",
              "}});\n",
              "\n",
              "// Listen for the removal of the full notebook cells\n",
              "var notebookContainer = gd.closest('#notebook-container');\n",
              "if (notebookContainer) {{\n",
              "    x.observe(notebookContainer, {childList: true});\n",
              "}}\n",
              "\n",
              "// Listen for the clearing of the current output cell\n",
              "var outputEl = gd.closest('.output');\n",
              "if (outputEl) {{\n",
              "    x.observe(outputEl, {childList: true});\n",
              "}}\n",
              "\n",
              "                        })                };                            </script>        </div>\n",
              "</body>\n",
              "</html>"
            ]
          },
          "metadata": {}
        },
        {
          "output_type": "display_data",
          "data": {
            "text/html": [
              "<html>\n",
              "<head><meta charset=\"utf-8\" /></head>\n",
              "<body>\n",
              "    <div>            <script src=\"https://cdnjs.cloudflare.com/ajax/libs/mathjax/2.7.5/MathJax.js?config=TeX-AMS-MML_SVG\"></script><script type=\"text/javascript\">if (window.MathJax && window.MathJax.Hub && window.MathJax.Hub.Config) {window.MathJax.Hub.Config({SVG: {font: \"STIX-Web\"}});}</script>                <script type=\"text/javascript\">window.PlotlyConfig = {MathJaxConfig: 'local'};</script>\n",
              "        <script charset=\"utf-8\" src=\"https://cdn.plot.ly/plotly-2.35.2.min.js\"></script>                <div id=\"2e045dfa-b098-47ab-9f81-bae7d6fbd1c7\" class=\"plotly-graph-div\" style=\"height:525px; width:100%;\"></div>            <script type=\"text/javascript\">                                    window.PLOTLYENV=window.PLOTLYENV || {};                                    if (document.getElementById(\"2e045dfa-b098-47ab-9f81-bae7d6fbd1c7\")) {                    Plotly.newPlot(                        \"2e045dfa-b098-47ab-9f81-bae7d6fbd1c7\",                        [{\"alignmentgroup\":\"True\",\"hovertemplate\":\"Skill=%{x}\\u003cbr\\u003eCount=%{y}\\u003cextra\\u003e\\u003c\\u002fextra\\u003e\",\"legendgroup\":\"\",\"marker\":{\"color\":\"#636efa\",\"pattern\":{\"shape\":\"\"}},\"name\":\"\",\"offsetgroup\":\"\",\"orientation\":\"v\",\"showlegend\":false,\"textposition\":\"auto\",\"x\":[\"management\",\"work\",\"team\",\"data\",\"test\",\"development\",\"system\",\"tool\",\"python\",\"program\",\"history\",\"sql\",\"service\",\"process\",\"use\",\"problem\",\"design\",\"software\",\"plan\",\"project\"],\"xaxis\":\"x\",\"y\":[476,452,415,403,378,362,333,320,299,280,276,274,268,264,263,258,254,253,240,229],\"yaxis\":\"y\",\"type\":\"bar\"}],                        {\"template\":{\"data\":{\"histogram2dcontour\":[{\"type\":\"histogram2dcontour\",\"colorbar\":{\"outlinewidth\":0,\"ticks\":\"\"},\"colorscale\":[[0.0,\"#0d0887\"],[0.1111111111111111,\"#46039f\"],[0.2222222222222222,\"#7201a8\"],[0.3333333333333333,\"#9c179e\"],[0.4444444444444444,\"#bd3786\"],[0.5555555555555556,\"#d8576b\"],[0.6666666666666666,\"#ed7953\"],[0.7777777777777778,\"#fb9f3a\"],[0.8888888888888888,\"#fdca26\"],[1.0,\"#f0f921\"]]}],\"choropleth\":[{\"type\":\"choropleth\",\"colorbar\":{\"outlinewidth\":0,\"ticks\":\"\"}}],\"histogram2d\":[{\"type\":\"histogram2d\",\"colorbar\":{\"outlinewidth\":0,\"ticks\":\"\"},\"colorscale\":[[0.0,\"#0d0887\"],[0.1111111111111111,\"#46039f\"],[0.2222222222222222,\"#7201a8\"],[0.3333333333333333,\"#9c179e\"],[0.4444444444444444,\"#bd3786\"],[0.5555555555555556,\"#d8576b\"],[0.6666666666666666,\"#ed7953\"],[0.7777777777777778,\"#fb9f3a\"],[0.8888888888888888,\"#fdca26\"],[1.0,\"#f0f921\"]]}],\"heatmap\":[{\"type\":\"heatmap\",\"colorbar\":{\"outlinewidth\":0,\"ticks\":\"\"},\"colorscale\":[[0.0,\"#0d0887\"],[0.1111111111111111,\"#46039f\"],[0.2222222222222222,\"#7201a8\"],[0.3333333333333333,\"#9c179e\"],[0.4444444444444444,\"#bd3786\"],[0.5555555555555556,\"#d8576b\"],[0.6666666666666666,\"#ed7953\"],[0.7777777777777778,\"#fb9f3a\"],[0.8888888888888888,\"#fdca26\"],[1.0,\"#f0f921\"]]}],\"heatmapgl\":[{\"type\":\"heatmapgl\",\"colorbar\":{\"outlinewidth\":0,\"ticks\":\"\"},\"colorscale\":[[0.0,\"#0d0887\"],[0.1111111111111111,\"#46039f\"],[0.2222222222222222,\"#7201a8\"],[0.3333333333333333,\"#9c179e\"],[0.4444444444444444,\"#bd3786\"],[0.5555555555555556,\"#d8576b\"],[0.6666666666666666,\"#ed7953\"],[0.7777777777777778,\"#fb9f3a\"],[0.8888888888888888,\"#fdca26\"],[1.0,\"#f0f921\"]]}],\"contourcarpet\":[{\"type\":\"contourcarpet\",\"colorbar\":{\"outlinewidth\":0,\"ticks\":\"\"}}],\"contour\":[{\"type\":\"contour\",\"colorbar\":{\"outlinewidth\":0,\"ticks\":\"\"},\"colorscale\":[[0.0,\"#0d0887\"],[0.1111111111111111,\"#46039f\"],[0.2222222222222222,\"#7201a8\"],[0.3333333333333333,\"#9c179e\"],[0.4444444444444444,\"#bd3786\"],[0.5555555555555556,\"#d8576b\"],[0.6666666666666666,\"#ed7953\"],[0.7777777777777778,\"#fb9f3a\"],[0.8888888888888888,\"#fdca26\"],[1.0,\"#f0f921\"]]}],\"surface\":[{\"type\":\"surface\",\"colorbar\":{\"outlinewidth\":0,\"ticks\":\"\"},\"colorscale\":[[0.0,\"#0d0887\"],[0.1111111111111111,\"#46039f\"],[0.2222222222222222,\"#7201a8\"],[0.3333333333333333,\"#9c179e\"],[0.4444444444444444,\"#bd3786\"],[0.5555555555555556,\"#d8576b\"],[0.6666666666666666,\"#ed7953\"],[0.7777777777777778,\"#fb9f3a\"],[0.8888888888888888,\"#fdca26\"],[1.0,\"#f0f921\"]]}],\"mesh3d\":[{\"type\":\"mesh3d\",\"colorbar\":{\"outlinewidth\":0,\"ticks\":\"\"}}],\"scatter\":[{\"fillpattern\":{\"fillmode\":\"overlay\",\"size\":10,\"solidity\":0.2},\"type\":\"scatter\"}],\"parcoords\":[{\"type\":\"parcoords\",\"line\":{\"colorbar\":{\"outlinewidth\":0,\"ticks\":\"\"}}}],\"scatterpolargl\":[{\"type\":\"scatterpolargl\",\"marker\":{\"colorbar\":{\"outlinewidth\":0,\"ticks\":\"\"}}}],\"bar\":[{\"error_x\":{\"color\":\"#2a3f5f\"},\"error_y\":{\"color\":\"#2a3f5f\"},\"marker\":{\"line\":{\"color\":\"#E5ECF6\",\"width\":0.5},\"pattern\":{\"fillmode\":\"overlay\",\"size\":10,\"solidity\":0.2}},\"type\":\"bar\"}],\"scattergeo\":[{\"type\":\"scattergeo\",\"marker\":{\"colorbar\":{\"outlinewidth\":0,\"ticks\":\"\"}}}],\"scatterpolar\":[{\"type\":\"scatterpolar\",\"marker\":{\"colorbar\":{\"outlinewidth\":0,\"ticks\":\"\"}}}],\"histogram\":[{\"marker\":{\"pattern\":{\"fillmode\":\"overlay\",\"size\":10,\"solidity\":0.2}},\"type\":\"histogram\"}],\"scattergl\":[{\"type\":\"scattergl\",\"marker\":{\"colorbar\":{\"outlinewidth\":0,\"ticks\":\"\"}}}],\"scatter3d\":[{\"type\":\"scatter3d\",\"line\":{\"colorbar\":{\"outlinewidth\":0,\"ticks\":\"\"}},\"marker\":{\"colorbar\":{\"outlinewidth\":0,\"ticks\":\"\"}}}],\"scattermapbox\":[{\"type\":\"scattermapbox\",\"marker\":{\"colorbar\":{\"outlinewidth\":0,\"ticks\":\"\"}}}],\"scatterternary\":[{\"type\":\"scatterternary\",\"marker\":{\"colorbar\":{\"outlinewidth\":0,\"ticks\":\"\"}}}],\"scattercarpet\":[{\"type\":\"scattercarpet\",\"marker\":{\"colorbar\":{\"outlinewidth\":0,\"ticks\":\"\"}}}],\"carpet\":[{\"aaxis\":{\"endlinecolor\":\"#2a3f5f\",\"gridcolor\":\"white\",\"linecolor\":\"white\",\"minorgridcolor\":\"white\",\"startlinecolor\":\"#2a3f5f\"},\"baxis\":{\"endlinecolor\":\"#2a3f5f\",\"gridcolor\":\"white\",\"linecolor\":\"white\",\"minorgridcolor\":\"white\",\"startlinecolor\":\"#2a3f5f\"},\"type\":\"carpet\"}],\"table\":[{\"cells\":{\"fill\":{\"color\":\"#EBF0F8\"},\"line\":{\"color\":\"white\"}},\"header\":{\"fill\":{\"color\":\"#C8D4E3\"},\"line\":{\"color\":\"white\"}},\"type\":\"table\"}],\"barpolar\":[{\"marker\":{\"line\":{\"color\":\"#E5ECF6\",\"width\":0.5},\"pattern\":{\"fillmode\":\"overlay\",\"size\":10,\"solidity\":0.2}},\"type\":\"barpolar\"}],\"pie\":[{\"automargin\":true,\"type\":\"pie\"}]},\"layout\":{\"autotypenumbers\":\"strict\",\"colorway\":[\"#636efa\",\"#EF553B\",\"#00cc96\",\"#ab63fa\",\"#FFA15A\",\"#19d3f3\",\"#FF6692\",\"#B6E880\",\"#FF97FF\",\"#FECB52\"],\"font\":{\"color\":\"#2a3f5f\"},\"hovermode\":\"closest\",\"hoverlabel\":{\"align\":\"left\"},\"paper_bgcolor\":\"white\",\"plot_bgcolor\":\"#E5ECF6\",\"polar\":{\"bgcolor\":\"#E5ECF6\",\"angularaxis\":{\"gridcolor\":\"white\",\"linecolor\":\"white\",\"ticks\":\"\"},\"radialaxis\":{\"gridcolor\":\"white\",\"linecolor\":\"white\",\"ticks\":\"\"}},\"ternary\":{\"bgcolor\":\"#E5ECF6\",\"aaxis\":{\"gridcolor\":\"white\",\"linecolor\":\"white\",\"ticks\":\"\"},\"baxis\":{\"gridcolor\":\"white\",\"linecolor\":\"white\",\"ticks\":\"\"},\"caxis\":{\"gridcolor\":\"white\",\"linecolor\":\"white\",\"ticks\":\"\"}},\"coloraxis\":{\"colorbar\":{\"outlinewidth\":0,\"ticks\":\"\"}},\"colorscale\":{\"sequential\":[[0.0,\"#0d0887\"],[0.1111111111111111,\"#46039f\"],[0.2222222222222222,\"#7201a8\"],[0.3333333333333333,\"#9c179e\"],[0.4444444444444444,\"#bd3786\"],[0.5555555555555556,\"#d8576b\"],[0.6666666666666666,\"#ed7953\"],[0.7777777777777778,\"#fb9f3a\"],[0.8888888888888888,\"#fdca26\"],[1.0,\"#f0f921\"]],\"sequentialminus\":[[0.0,\"#0d0887\"],[0.1111111111111111,\"#46039f\"],[0.2222222222222222,\"#7201a8\"],[0.3333333333333333,\"#9c179e\"],[0.4444444444444444,\"#bd3786\"],[0.5555555555555556,\"#d8576b\"],[0.6666666666666666,\"#ed7953\"],[0.7777777777777778,\"#fb9f3a\"],[0.8888888888888888,\"#fdca26\"],[1.0,\"#f0f921\"]],\"diverging\":[[0,\"#8e0152\"],[0.1,\"#c51b7d\"],[0.2,\"#de77ae\"],[0.3,\"#f1b6da\"],[0.4,\"#fde0ef\"],[0.5,\"#f7f7f7\"],[0.6,\"#e6f5d0\"],[0.7,\"#b8e186\"],[0.8,\"#7fbc41\"],[0.9,\"#4d9221\"],[1,\"#276419\"]]},\"xaxis\":{\"gridcolor\":\"white\",\"linecolor\":\"white\",\"ticks\":\"\",\"title\":{\"standoff\":15},\"zerolinecolor\":\"white\",\"automargin\":true,\"zerolinewidth\":2},\"yaxis\":{\"gridcolor\":\"white\",\"linecolor\":\"white\",\"ticks\":\"\",\"title\":{\"standoff\":15},\"zerolinecolor\":\"white\",\"automargin\":true,\"zerolinewidth\":2},\"scene\":{\"xaxis\":{\"backgroundcolor\":\"#E5ECF6\",\"gridcolor\":\"white\",\"linecolor\":\"white\",\"showbackground\":true,\"ticks\":\"\",\"zerolinecolor\":\"white\",\"gridwidth\":2},\"yaxis\":{\"backgroundcolor\":\"#E5ECF6\",\"gridcolor\":\"white\",\"linecolor\":\"white\",\"showbackground\":true,\"ticks\":\"\",\"zerolinecolor\":\"white\",\"gridwidth\":2},\"zaxis\":{\"backgroundcolor\":\"#E5ECF6\",\"gridcolor\":\"white\",\"linecolor\":\"white\",\"showbackground\":true,\"ticks\":\"\",\"zerolinecolor\":\"white\",\"gridwidth\":2}},\"shapedefaults\":{\"line\":{\"color\":\"#2a3f5f\"}},\"annotationdefaults\":{\"arrowcolor\":\"#2a3f5f\",\"arrowhead\":0,\"arrowwidth\":1},\"geo\":{\"bgcolor\":\"white\",\"landcolor\":\"#E5ECF6\",\"subunitcolor\":\"white\",\"showland\":true,\"showlakes\":true,\"lakecolor\":\"white\"},\"title\":{\"x\":0.05},\"mapbox\":{\"style\":\"light\"}}},\"xaxis\":{\"anchor\":\"y\",\"domain\":[0.0,1.0],\"title\":{\"text\":\"Skill\"}},\"yaxis\":{\"anchor\":\"x\",\"domain\":[0.0,1.0],\"title\":{\"text\":\"Count\"}},\"legend\":{\"tracegroupgap\":0},\"title\":{\"text\":\"Top 20 Most Common Skills\"},\"barmode\":\"relative\"},                        {\"responsive\": true}                    ).then(function(){\n",
              "                            \n",
              "var gd = document.getElementById('2e045dfa-b098-47ab-9f81-bae7d6fbd1c7');\n",
              "var x = new MutationObserver(function (mutations, observer) {{\n",
              "        var display = window.getComputedStyle(gd).display;\n",
              "        if (!display || display === 'none') {{\n",
              "            console.log([gd, 'removed!']);\n",
              "            Plotly.purge(gd);\n",
              "            observer.disconnect();\n",
              "        }}\n",
              "}});\n",
              "\n",
              "// Listen for the removal of the full notebook cells\n",
              "var notebookContainer = gd.closest('#notebook-container');\n",
              "if (notebookContainer) {{\n",
              "    x.observe(notebookContainer, {childList: true});\n",
              "}}\n",
              "\n",
              "// Listen for the clearing of the current output cell\n",
              "var outputEl = gd.closest('.output');\n",
              "if (outputEl) {{\n",
              "    x.observe(outputEl, {childList: true});\n",
              "}}\n",
              "\n",
              "                        })                };                            </script>        </div>\n",
              "</body>\n",
              "</html>"
            ]
          },
          "metadata": {}
        }
      ],
      "source": [
        "import pandas as pd\n",
        "import plotly.express as px\n",
        "from collections import Counter\n",
        "\n",
        "# Paths on Google Drive\n",
        "clean_path = '/content/drive/MyDrive/CoverLetterGenerator/data/clean'\n",
        "\n",
        "# Save cleaned CVs and Jobs\n",
        "df_cv.to_csv(clean_path + '/CV_Extracted_Cleaned.csv', index=False)\n",
        "df_job.to_csv(clean_path + '/JobDescription_Cleaned.csv', index=False)\n",
        "\n",
        "# Load cleaned data\n",
        "df_cv = pd.read_csv(clean_path + '/CV_Extracted_Cleaned.csv')\n",
        "df_job = pd.read_csv(clean_path + '/JobDescription_Cleaned.csv')\n",
        "\n",
        "# Fill missing skills with empty string\n",
        "df_cv['Skills'] = df_cv['Skills'].fillna(\"\")\n",
        "\n",
        "# ------------------------------\n",
        "# 1. Number of skills per candidate\n",
        "# ------------------------------\n",
        "df_cv['num_skills'] = df_cv['Skills'].apply(lambda x: len(x.split(',')) if x else 0)\n",
        "fig1 = px.histogram(df_cv, x='num_skills', nbins=20,\n",
        "                    title=\"Number of Skills per Candidate\")\n",
        "fig1.show()\n",
        "\n",
        "# ------------------------------\n",
        "# 2. Most common skills\n",
        "# ------------------------------\n",
        "all_skills = ','.join(df_cv['Skills']).split(',')\n",
        "all_skills = [skill.strip() for skill in all_skills if skill.strip() != '']\n",
        "skill_counts = Counter(all_skills)\n",
        "most_common_skills = skill_counts.most_common(20)\n",
        "skills, counts = zip(*most_common_skills)\n",
        "\n",
        "fig2 = px.bar(x=skills, y=counts, title=\"Top 20 Most Common Skills\", labels={'x':'Skill','y':'Count'})\n",
        "fig2.show()\n",
        "\n",
        "# --------------------------\n"
      ]
    },
    {
      "cell_type": "code",
      "execution_count": 10,
      "id": "c1cab7b6",
      "metadata": {
        "colab": {
          "base_uri": "https://localhost:8080/"
        },
        "id": "c1cab7b6",
        "outputId": "1f76a401-4f71-4370-e52e-4405f2e55b1d"
      },
      "outputs": [
        {
          "output_type": "stream",
          "name": "stdout",
          "text": [
            "🔄 Loading GPT4All model...\n",
            "✅ Model loaded successfully!\n",
            "\n",
            "📄 Loaded 1624 CVs and 2277 job descriptions.\n",
            "\n",
            "👤 Processing CV #1: Gregory Bennett\n",
            "💼 Job #2: django,developer\n",
            "\n",
            "📝 Generating personalized cover letter...\n",
            "\n",
            "✅ Cover letter generated!\n",
            "\n",
            "=== GENERATED COVER LETTER ===\n",
            "\n",
            "Here is a well-structured, compelling, and personalized cover letter for the candidate:\n",
            "\n",
            "Dear Hiring Manager,\n",
            "\n",
            "I am thrilled to apply for the Django Developer Lead position at [Company Name]. With my strong background in Python and experience working with API development frameworks like Django and Flask, I believe I would be an excellent fit for this role.\n",
            "\n",
            "As a meticulous professional with a keen eye for detail, I have honed my skills in optimizing code to significantly reduce gas fees while improving user throughput. My expertise in blockchain transactions has allowed me to develop robust protocols that enhance network performance. These abilities will enable me to effectively handle multiple tasks and deliver high-level accuracy in this role.\n",
            "\n",
            "In addition to my technical prowess, I possess excellent verbal and written communication skills, which have been essential in my previous roles as an HR assistant. My experience working with SQL databases and JSON data structures has also given me a solid foundation for understanding the importance of automated unit testing using PyUnit.\n",
            "\n",
            "As a team player who thrives under pressure, I am confident that my ability to work effectively in a Linux environment will serve me well in this position. Furthermore, my strong attention to detail and good verbal communication skills make me an asset when working with cross-functional teams or communicating complex technical information to non-technical stakeholders.\n",
            "\n",
            "I would be delighted to discuss how my unique blend of technical expertise and soft skills aligns with the requirements for this role. Please feel free to contact me at gregory.bennett@ gmail.com.\n",
            "\n",
            "Thank you for considering my application. I look forward to the opportunity to contribute my skills and experience to [Company Name].\n",
            "\n",
            "Sincerely,\n",
            "Gregory Bennett\n",
            "\n",
            "\n",
            "\n",
            "⏱ Time taken: 302.32 seconds\n",
            "\n",
            "💾 Cover letter saved successfully to: /content/drive/MyDrive/CoverLetterGenerator/output/generated_cover_letters.csv\n"
          ]
        }
      ],
      "source": [
        "import pandas as pd\n",
        "from gpt4all import GPT4All\n",
        "import time\n",
        "import os\n",
        "\n",
        "# === CONFIG ===\n",
        "MODEL_PATH = \"/content/drive/MyDrive/CoverLetterGenerator/models/Meta-Llama-3-8B-Instruct.Q4_0.gguf\"\n",
        "OUTPUT_PATH = \"/content/drive/MyDrive/CoverLetterGenerator/output/generated_cover_letters.csv\"\n",
        "\n",
        "# === LOAD MODEL ===\n",
        "print(\"🔄 Loading GPT4All model...\")\n",
        "model = GPT4All(MODEL_PATH)\n",
        "print(\"✅ Model loaded successfully!\\n\")\n",
        "\n",
        "# === LOAD YOUR DATA ===\n",
        "cv_path = \"/content/drive/MyDrive/CoverLetterGenerator/data/clean/CV_Extracted_Cleaned.csv\"\n",
        "job_path = \"/content/drive/MyDrive/CoverLetterGenerator/data/clean/JobDescription_Cleaned.csv\"\n",
        "\n",
        "df_cv = pd.read_csv(cv_path)\n",
        "df_job = pd.read_csv(job_path)\n",
        "\n",
        "print(f\"📄 Loaded {len(df_cv)} CVs and {len(df_job)} job descriptions.\\n\")\n",
        "\n",
        "# === CHOOSE WHICH ROWS TO TEST ===\n",
        "cv_index = 0  # change this to test another CV\n",
        "job_index = 1  # change this to test another job\n",
        "\n",
        "cv = df_cv.iloc[cv_index]\n",
        "job = df_job.iloc[job_index]\n",
        "\n",
        "print(f\"👤 Processing CV #{cv_index+1}: {cv['Name']}\")\n",
        "print(f\"💼 Job #{job_index+1}: {job['Job Title']}\\n\")\n",
        "\n",
        "# === FORMAT CV & JOB TEXT ===\n",
        "cv_text = f\"\"\"\n",
        "Name: {cv['Name']}\n",
        "Email: {cv['Email']}\n",
        "Skills: {cv['Skills']}\n",
        "\"\"\"\n",
        "\n",
        "job_title = job['Job Title']\n",
        "job_description = job['Job Description']\n",
        "\n",
        "# === CREATE PROMPT ===\n",
        "prompt = f\"\"\"\n",
        "You are a professional HR assistant.\n",
        "Write a well-structured, compelling, and personalized cover letter for the following candidate based on the job description.\n",
        "\n",
        "--- Candidate Details ---\n",
        "{cv_text}\n",
        "\n",
        "--- Job Title ---\n",
        "{job_title}\n",
        "\n",
        "--- Job Description ---\n",
        "{job_description}\n",
        "\n",
        "--- Cover Letter ---\n",
        "\"\"\"\n",
        "\n",
        "print(\"📝 Generating personalized cover letter...\\n\")\n",
        "start_time = time.time()\n",
        "\n",
        "# === GENERATE COVER LETTER ===\n",
        "with model.chat_session():\n",
        "    cover_letter = model.generate(prompt, max_tokens=600)\n",
        "\n",
        "end_time = time.time()\n",
        "print(\"✅ Cover letter generated!\\n\")\n",
        "\n",
        "# === DISPLAY & SAVE ===\n",
        "print(\"=== GENERATED COVER LETTER ===\\n\")\n",
        "print(cover_letter)\n",
        "print(f\"\\n⏱ Time taken: {round(end_time - start_time, 2)} seconds\")\n",
        "\n",
        "# === SAVE TO CSV ===\n",
        "output_df = pd.DataFrame([{\n",
        "    \"Candidate_Name\": cv[\"Name\"],\n",
        "    \"Candidate_Email\": cv[\"Email\"],\n",
        "    \"Job_Title\": job_title,\n",
        "    \"Generated_Cover_Letter\": cover_letter\n",
        "}])\n",
        "\n",
        "# Ensure output directory exists\n",
        "os.makedirs(os.path.dirname(OUTPUT_PATH), exist_ok=True)\n",
        "\n",
        "# Append or create file\n",
        "if os.path.exists(OUTPUT_PATH):\n",
        "    output_df.to_csv(OUTPUT_PATH, mode=\"a\", header=False, index=False)\n",
        "else:\n",
        "    output_df.to_csv(OUTPUT_PATH, index=False)\n",
        "\n",
        "print(f\"\\n💾 Cover letter saved successfully to: {OUTPUT_PATH}\")\n"
      ]
    },
    {
      "cell_type": "code",
      "source": [
        "import pandas as pd\n",
        "import time\n",
        "from datetime import datetime\n",
        "from gpt4all import GPT4All\n",
        "\n",
        "# === CONFIG ===\n",
        "MODEL_PATH = \"/content/drive/MyDrive/CoverLetterGenerator/models/Meta-Llama-3-8B-Instruct.Q4_0.gguf\"\n",
        "OUTPUT_PATH = \"/content/drive/MyDrive/CoverLetterGenerator/output/generated_cover_letters.csv\"\n",
        "\n",
        "# === LOAD MODEL ===\n",
        "print(\"🔄 Loading GPT4All model...\")\n",
        "model = GPT4All(MODEL_PATH)\n",
        "print(\"✅ Model loaded successfully!\\n\")\n",
        "\n",
        "# === LOAD DATA ===\n",
        "cv_path = \"/content/drive/MyDrive/CoverLetterGenerator/data/clean/CV_Extracted_Cleaned.csv\"\n",
        "job_path = \"/content/drive/MyDrive/CoverLetterGenerator/data/clean/JobDescription_Cleaned.csv\"\n",
        "\n",
        "df_cv = pd.read_csv(cv_path)\n",
        "df_job = pd.read_csv(job_path)\n",
        "print(f\"📄 Loaded {len(df_cv)} CVs and {len(df_job)} job descriptions.\\n\")\n",
        "\n",
        "# === SELECT ROWS ===\n",
        "cv_index = 50\n",
        "job_index = 10\n",
        "\n",
        "cv = df_cv.iloc[cv_index]\n",
        "job = df_job.iloc[job_index]\n",
        "\n",
        "# === PREPARE TEXT ===\n",
        "cv_name = cv.get('Name', 'Candidate')\n",
        "cv_email = cv.get('Email', 'example@email.com')\n",
        "cv_skills = cv.get('Skills', '')\n",
        "job_title = job.get('Job Title', 'Unknown Position')\n",
        "job_description = job.get('Job Description', '')\n",
        "today = datetime.now().strftime(\"%B %d, %Y\")\n",
        "\n",
        "# === GENERATE PROMPT ===\n",
        "prompt = f\"\"\"\n",
        "You are an HR assistant. Write a formal, structured, and personalized cover letter in this exact format:\n",
        "\n",
        "[Candidate Name]\n",
        "[Candidate Email]\n",
        "[Date]\n",
        "\n",
        "Hiring Manager\n",
        "\n",
        "Subject: Application for [Job Title] Position\n",
        "\n",
        "Dear Hiring Manager,\n",
        "\n",
        "[Body Paragraph 1 – Express interest and match skills to the job.]\n",
        "[Body Paragraph 2 – Mention experience and achievements.]\n",
        "[Body Paragraph 3 – Show enthusiasm and close formally.]\n",
        "\n",
        "Sincerely,\n",
        "**[Candidate Name]**\n",
        "\n",
        "Use the following data to personalize the letter:\n",
        "\n",
        "--- Candidate Details ---\n",
        "Name: {cv_name}\n",
        "Email: {cv_email}\n",
        "Skills: {cv_skills}\n",
        "\n",
        "--- Job Title ---\n",
        "{job_title}\n",
        "\n",
        "--- Job Description ---\n",
        "{job_description}\n",
        "\"\"\"\n",
        "\n",
        "# === GENERATE LETTER ===\n",
        "print(f\"👤 Processing CV: {cv_name}\")\n",
        "print(f\"💼 Job: {job_title}\\n\")\n",
        "print(\"📝 Generating personalized cover letter...\\n\")\n",
        "\n",
        "start_time = time.time()\n",
        "with model.chat_session():\n",
        "    cover_letter = model.generate(prompt, max_tokens=700)\n",
        "end_time = time.time()\n",
        "\n",
        "print(\"✅ Cover letter generated!\\n\")\n",
        "print(\"=== GENERATED COVER LETTER ===\\n\")\n",
        "print(cover_letter)\n",
        "\n",
        "# === SAVE TO CSV ===\n",
        "df_output = pd.DataFrame([{\n",
        "    \"CV_Name\": cv_name,\n",
        "    \"Job_Title\": job_title,\n",
        "    \"Generated_Cover_Letter\": cover_letter.strip(),\n",
        "    \"Date_Generated\": today\n",
        "}])\n",
        "\n",
        "df_output.to_csv(OUTPUT_PATH, mode='a', index=False, header=False)\n",
        "\n",
        "print(f\"\\n💾 Cover letter saved successfully to: {OUTPUT_PATH}\")\n",
        "print(f\"⏱ Time taken: {end_time - start_time:.2f} seconds\")\n"
      ],
      "metadata": {
        "colab": {
          "base_uri": "https://localhost:8080/"
        },
        "id": "IF0Tk1I9AHZr",
        "outputId": "91bbfa8a-aee7-4106-9827-6031ffa038fc"
      },
      "id": "IF0Tk1I9AHZr",
      "execution_count": null,
      "outputs": [
        {
          "output_type": "stream",
          "name": "stdout",
          "text": [
            "🔄 Loading GPT4All model...\n",
            "✅ Model loaded successfully!\n",
            "\n",
            "📄 Loaded 1624 CVs and 2277 job descriptions.\n",
            "\n",
            "👤 Processing CV: Monica Brown\n",
            "💼 Job: database,administrator\n",
            "\n",
            "📝 Generating personalized cover letter...\n",
            "\n"
          ]
        }
      ]
    },
    {
      "cell_type": "code",
      "source": [],
      "metadata": {
        "id": "Ph4dHjgYFzDW"
      },
      "id": "Ph4dHjgYFzDW",
      "execution_count": null,
      "outputs": []
    }
  ],
  "metadata": {
    "kernelspec": {
      "display_name": "Python 3",
      "name": "python3"
    },
    "language_info": {
      "codemirror_mode": {
        "name": "ipython",
        "version": 3
      },
      "file_extension": ".py",
      "mimetype": "text/x-python",
      "name": "python",
      "nbconvert_exporter": "python",
      "pygments_lexer": "ipython3",
      "version": "3.13.1"
    },
    "colab": {
      "provenance": [],
      "gpuType": "T4"
    },
    "accelerator": "GPU"
  },
  "nbformat": 4,
  "nbformat_minor": 5
}