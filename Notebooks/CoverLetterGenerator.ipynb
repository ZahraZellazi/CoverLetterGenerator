{
 "cells": [
  {
   "cell_type": "code",
   "execution_count": null,
   "id": "e55f8075",
   "metadata": {},
   "outputs": [],
   "source": [
    "import pandas as pd\n",
    "\n",
    "# Load CVs\n",
    "df_cv = pd.read_csv(\"data/CV_Extracted.csv\")\n",
    "\n",
    "# Load Job Descriptions\n",
    "df_job = pd.read_csv(\"data/JobDescription.csv\")\n",
    "\n",
    "print(\"CVs Loaded:\", len(df_cv))\n",
    "print(\"Jobs Loaded:\", len(df_job))\n",
    "\n",
    "# Example: inspect first CV and Job\n",
    "print(df_cv.head())\n",
    "print(df_job.head())\n"
   ]
  },
  {
   "cell_type": "code",
   "execution_count": null,
   "id": "758cdd8f",
   "metadata": {},
   "outputs": [],
   "source": []
  }
 ],
 "metadata": {
  "kernelspec": {
   "display_name": ".venv",
   "language": "python",
   "name": "python3"
  },
  "language_info": {
   "codemirror_mode": {
    "name": "ipython",
    "version": 3
   },
   "file_extension": ".py",
   "mimetype": "text/x-python",
   "name": "python",
   "nbconvert_exporter": "python",
   "pygments_lexer": "ipython3",
   "version": "3.13.1"
  }
 },
 "nbformat": 4,
 "nbformat_minor": 5
}
