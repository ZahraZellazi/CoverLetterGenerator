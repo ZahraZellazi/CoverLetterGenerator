{
 "cells": [
  {
   "cell_type": "code",
   "execution_count": 6,
   "id": "e55f8075",
   "metadata": {},
   "outputs": [
    {
     "name": "stdout",
     "output_type": "stream",
     "text": [
      "CVs Loaded: 1636\n",
      "Jobs Loaded: 2277\n",
      "              Name                      Email  \\\n",
      "0  Gregory Bennett  gregory.bennett@gmail.com   \n",
      "1  Gregory Bennett  gregory.bennett@gmail.com   \n",
      "2     Jasmine Bell     jasmine.bell@gmail.com   \n",
      "3    Linda Johnson    linda.johnson@gmail.com   \n",
      "4        Ryan Cook        ryan.cook@gmail.com   \n",
      "\n",
      "                                              Skills  \n",
      "0  optimize,blockchain,transaction,throughput,40,...  \n",
      "1  blockchain,technology,web3,javascript,python,g...  \n",
      "2  blockchain,technology,web3,javascript,python,g...  \n",
      "3  distribute,system,cryptography,smart,contract,...  \n",
      "4  distribute,system,cryptography,smart,contract,...  \n",
      "   Unnamed: 0             Job Title  \\\n",
      "0           0     flutter,developer   \n",
      "1           1      django,developer   \n",
      "2           2      machine,learning   \n",
      "3           3          io,developer   \n",
      "4           4  full,stack,developer   \n",
      "\n",
      "                                     Job Description  \n",
      "0  looking,hire,expert,flutter,developer,eligible...  \n",
      "1  python,django,developer,lead,job,code,pdj,04,s...  \n",
      "2  data,scientist,contractor,bangalore,responsibi...  \n",
      "3  job,description,strong,framework,outside,io,al...  \n",
      "4  job,responsibility,full,stack,engineer,react,r...  \n"
     ]
    }
   ],
   "source": [
    "import pandas as pd\n",
    "\n",
    "# Load CVs\n",
    "df_cv = pd.read_csv(\"/Users/zahra/Desktop/CoverLetterGenerator/data/CV_Extracted.csv\")\n",
    "\n",
    "# Load Job Descriptions\n",
    "df_job = pd.read_csv(\"/Users/zahra/Desktop/CoverLetterGenerator/data/JobDescription.csv\")\n",
    "\n",
    "print(\"CVs Loaded:\", len(df_cv))\n",
    "print(\"Jobs Loaded:\", len(df_job))\n",
    "\n",
    "# Example: inspect first CV and Job\n",
    "print(df_cv.head())\n",
    "print(df_job.head())\n"
   ]
  },
  {
   "cell_type": "code",
   "execution_count": 7,
   "id": "758cdd8f",
   "metadata": {},
   "outputs": [
    {
     "name": "stdout",
     "output_type": "stream",
     "text": [
      "              Name                      Email  \\\n",
      "0  Gregory Bennett  gregory.bennett@gmail.com   \n",
      "1  Gregory Bennett  gregory.bennett@gmail.com   \n",
      "2     Jasmine Bell     jasmine.bell@gmail.com   \n",
      "3    Linda Johnson    linda.johnson@gmail.com   \n",
      "4        Ryan Cook        ryan.cook@gmail.com   \n",
      "\n",
      "                                              Skills  \n",
      "0  optimize,blockchain,transaction,throughput,40,...  \n",
      "1  blockchain,technology,web3,javascript,python,g...  \n",
      "2  blockchain,technology,web3,javascript,python,g...  \n",
      "3  distribute,system,cryptography,smart,contract,...  \n",
      "4  distribute,system,cryptography,smart,contract,...  \n",
      "   Unnamed: 0             Job Title  \\\n",
      "0           0     flutter,developer   \n",
      "1           1      django,developer   \n",
      "2           2      machine,learning   \n",
      "3           3          io,developer   \n",
      "4           4  full,stack,developer   \n",
      "\n",
      "                                     Job Description  \n",
      "0  looking,hire,expert,flutter,developer,eligible...  \n",
      "1  python,django,developer,lead,job,code,pdj,04,s...  \n",
      "2  data,scientist,contractor,bangalore,responsibi...  \n",
      "3  job,description,strong,framework,outside,io,al...  \n",
      "4  job,responsibility,full,stack,engineer,react,r...  \n",
      "<class 'pandas.core.frame.DataFrame'>\n",
      "RangeIndex: 1636 entries, 0 to 1635\n",
      "Data columns (total 3 columns):\n",
      " #   Column  Non-Null Count  Dtype \n",
      "---  ------  --------------  ----- \n",
      " 0   Name    1636 non-null   object\n",
      " 1   Email   1636 non-null   object\n",
      " 2   Skills  1624 non-null   object\n",
      "dtypes: object(3)\n",
      "memory usage: 38.5+ KB\n",
      "None\n",
      "<class 'pandas.core.frame.DataFrame'>\n",
      "RangeIndex: 2277 entries, 0 to 2276\n",
      "Data columns (total 3 columns):\n",
      " #   Column           Non-Null Count  Dtype \n",
      "---  ------           --------------  ----- \n",
      " 0   Unnamed: 0       2277 non-null   int64 \n",
      " 1   Job Title        2277 non-null   object\n",
      " 2   Job Description  2277 non-null   object\n",
      "dtypes: int64(1), object(2)\n",
      "memory usage: 53.5+ KB\n",
      "None\n",
      "Name       0\n",
      "Email      0\n",
      "Skills    12\n",
      "dtype: int64\n",
      "Unnamed: 0         0\n",
      "Job Title          0\n",
      "Job Description    0\n",
      "dtype: int64\n",
      "                  Name                     Email        Skills\n",
      "count             1636                      1636          1624\n",
      "unique             330                       330          1329\n",
      "top     Jessica Claire  jessica.claire@gmail.com  work,history\n",
      "freq               579                       579            53\n",
      "         Unnamed: 0             Job Title  \\\n",
      "count   2277.000000                  2277   \n",
      "unique          NaN                    15   \n",
      "top             NaN  javascript,developer   \n",
      "freq            NaN                   166   \n",
      "mean    1187.974089                   NaN   \n",
      "std      694.438444                   NaN   \n",
      "min        0.000000                   NaN   \n",
      "25%      585.000000                   NaN   \n",
      "50%     1183.000000                   NaN   \n",
      "75%     1782.000000                   NaN   \n",
      "max     2403.000000                   NaN   \n",
      "\n",
      "                                          Job Description  \n",
      "count                                                2277  \n",
      "unique                                               2246  \n",
      "top     job,summary,job,description,job,summary,networ...  \n",
      "freq                                                    2  \n",
      "mean                                                  NaN  \n",
      "std                                                   NaN  \n",
      "min                                                   NaN  \n",
      "25%                                                   NaN  \n",
      "50%                                                   NaN  \n",
      "75%                                                   NaN  \n",
      "max                                                   NaN  \n"
     ]
    }
   ],
   "source": [
    "# Check first rows\n",
    "print(df_cv.head())\n",
    "print(df_job.head())\n",
    "\n",
    "# Basic info\n",
    "print(df_cv.info())\n",
    "print(df_job.info())\n",
    "\n",
    "# Check for missing values\n",
    "print(df_cv.isnull().sum())\n",
    "print(df_job.isnull().sum())\n",
    "\n",
    "# Summary statistics\n",
    "print(df_cv.describe(include='all'))\n",
    "print(df_job.describe(include='all'))\n"
   ]
  },
  {
   "cell_type": "code",
   "execution_count": 8,
   "id": "ef0dafb6",
   "metadata": {},
   "outputs": [
    {
     "name": "stdout",
     "output_type": "stream",
     "text": [
      "Unique candidates: 330\n",
      "              Name  num_skills\n",
      "0  Gregory Bennett          15\n",
      "1  Gregory Bennett          16\n",
      "2     Jasmine Bell          16\n",
      "3    Linda Johnson          18\n",
      "4        Ryan Cook          29\n",
      "[('management', 476), ('work', 452), ('team', 415), ('data', 403), ('test', 378), ('development', 362), ('system', 333), ('tool', 320), ('python', 299), ('program', 280), ('history', 276), ('sql', 274), ('service', 268), ('process', 264), ('use', 263), ('problem', 258), ('design', 254), ('software', 253), ('plan', 240), ('project', 229)]\n"
     ]
    }
   ],
   "source": [
    "# How many unique candidates?\n",
    "print(\"Unique candidates:\", df_cv['Name'].nunique())\n",
    "\n",
    "# Count how many skills each CV has\n",
    "df_cv['num_skills'] = df_cv['Skills'].apply(lambda x: len(str(x).split(',')))\n",
    "print(df_cv[['Name', 'num_skills']].head())\n",
    "\n",
    "# Most common skills\n",
    "from collections import Counter\n",
    "\n",
    "all_skills = ','.join(df_cv['Skills'].dropna()).split(',')\n",
    "all_skills = [s.strip().lower() for s in all_skills]\n",
    "skill_counts = Counter(all_skills)\n",
    "print(skill_counts.most_common(20))\n"
   ]
  },
  {
   "cell_type": "code",
   "execution_count": 9,
   "id": "b5c6f2b7",
   "metadata": {},
   "outputs": [
    {
     "name": "stdout",
     "output_type": "stream",
     "text": [
      "                  Job Title  desc_length\n",
      "0         flutter,developer           56\n",
      "1          django,developer           56\n",
      "2          machine,learning          169\n",
      "3              io,developer          135\n",
      "4      full,stack,developer          405\n",
      "...                     ...          ...\n",
      "2272      backend,developer          258\n",
      "2273   full,stack,developer          337\n",
      "2274  network,administrator           50\n",
      "2275       machine,learning          170\n",
      "2276   full,stack,developer          119\n",
      "\n",
      "[2277 rows x 2 columns]\n",
      "[('experience', 9810), ('work', 4903), ('year', 4653), ('development', 4191), ('team', 3750), ('application', 3542), ('skill', 3324), ('knowledge', 3226), ('design', 3086), ('software', 2981), ('technology', 2769), ('data', 2752), ('job', 2714), ('system', 2591), ('preferred', 2473), ('service', 2286), ('required', 2149), ('understanding', 2092), ('developer', 2055), ('working', 2008), ('time', 1979), ('web', 1960), ('database', 1866), ('strong', 1864), ('solution', 1820), ('code', 1797), ('product', 1788), ('business', 1714), ('full', 1686), ('new', 1672)]\n"
     ]
    }
   ],
   "source": [
    "# Length of job descriptions\n",
    "df_job['desc_length'] = df_job['Job Description'].apply(lambda x: len(str(x).split(',')))\n",
    "print(df_job[['Job Title', 'desc_length']])\n",
    "\n",
    "# Most common words in job descriptions\n",
    "all_job_words = ','.join(df_job['Job Description'].dropna()).split(',')\n",
    "all_job_words = [w.strip().lower() for w in all_job_words]\n",
    "job_word_counts = Counter(all_job_words)\n",
    "print(job_word_counts.most_common(30))\n"
   ]
  },
  {
   "cell_type": "code",
   "execution_count": 10,
   "id": "1e815414",
   "metadata": {},
   "outputs": [
    {
     "data": {
      "image/png": "[encoded data removed]",
      "text/plain": [
       "<Figure size 640x480 with 1 Axes>"
      ]
     },
     "metadata": {},
     "output_type": "display_data"
    },
    {
     "data": {
      "image/png": "[encoded data removed]",
      "text/plain": [
       "<Figure size 640x480 with 1 Axes>"
      ]
     },
     "metadata": {},
     "output_type": "display_data"
    }
   ],
   "source": [
    "import matplotlib.pyplot as plt\n",
    "import seaborn as sns\n",
    "\n",
    "# Histogram of number of skills per CV\n",
    "sns.histplot(df_cv['num_skills'], bins=20)\n",
    "plt.title(\"Number of skills per CV\")\n",
    "plt.show()\n",
    "\n",
    "# Histogram of job description lengths\n",
    "sns.histplot(df_job['desc_length'], bins=20)\n",
    "plt.title(\"Job Description length (in words)\")\n",
    "plt.show()\n"
   ]
  },
  {
   "cell_type": "code",
   "execution_count": null,
   "id": "e3df79b5",
   "metadata": {},
   "outputs": [],
   "source": []
  }
 ],
 "metadata": {
  "kernelspec": {
   "display_name": ".venv",
   "language": "python",
   "name": "python3"
  },
  "language_info": {
   "codemirror_mode": {
    "name": "ipython",
    "version": 3
   },
   "file_extension": ".py",
   "mimetype": "text/x-python",
   "name": "python",
   "nbconvert_exporter": "python",
   "pygments_lexer": "ipython3",
   "version": "3.13.1"
  }
 },
 "nbformat": 4,
 "nbformat_minor": 5
}
